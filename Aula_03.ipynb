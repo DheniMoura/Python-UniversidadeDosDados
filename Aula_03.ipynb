{
 "cells": [
  {
   "cell_type": "code",
   "execution_count": 1,
   "metadata": {},
   "outputs": [
    {
     "name": "stdout",
     "output_type": "stream",
     "text": [
      "0.01\n",
      "0.042222222222222223\n",
      "0.07444444444444444\n",
      "0.10666666666666666\n",
      "0.1388888888888889\n",
      "0.1711111111111111\n",
      "0.20333333333333334\n",
      "0.23555555555555557\n",
      "0.2677777777777778\n",
      "0.3\n"
     ]
    }
   ],
   "source": [
    "import numpy as np\n",
    "for i in np.linspace(0.01,0.3,10): # Vai encontrar 10 números dentro do intervalo 0.01 a 0.3  \n",
    "    print(i)"
   ]
  },
  {
   "cell_type": "code",
   "execution_count": 2,
   "metadata": {},
   "outputs": [
    {
     "name": "stdout",
     "output_type": "stream",
     "text": [
      "1.0\n",
      "2.0\n",
      "3.0\n",
      "4.0\n",
      "5.0\n",
      "6.0\n",
      "7.0\n",
      "8.0\n",
      "9.0\n",
      "10.0\n"
     ]
    }
   ],
   "source": [
    "for i in np.linspace(1,10,10): # Vai encontrar 10 números dentro do intervalo 0.01 a 0.3  \n",
    "    print(i)"
   ]
  },
  {
   "cell_type": "code",
   "execution_count": 3,
   "metadata": {},
   "outputs": [
    {
     "name": "stdout",
     "output_type": "stream",
     "text": [
      "n: 0 - Resultado: 0\n",
      "n: 1 - Resultado: 1\n",
      "n: 2 - Resultado: 4\n"
     ]
    }
   ],
   "source": [
    "for n in range(10):\n",
    "    resultado = n ** 2\n",
    "    if resultado == 9:\n",
    "        break\n",
    "    print(f\"n: {n} - Resultado: {resultado}\")"
   ]
  },
  {
   "cell_type": "code",
   "execution_count": 14,
   "metadata": {},
   "outputs": [
    {
     "name": "stdout",
     "output_type": "stream",
     "text": [
      "0\n",
      "1\n",
      "2\n",
      "3\n",
      "4\n",
      "5\n",
      "6\n",
      "7\n",
      "8\n",
      "9\n"
     ]
    }
   ],
   "source": [
    "for n in range(10):\n",
    "    print(n)\n",
    "    if n == 5:\n",
    "        pass"
   ]
  },
  {
   "cell_type": "code",
   "execution_count": 18,
   "metadata": {},
   "outputs": [
    {
     "name": "stdout",
     "output_type": "stream",
     "text": [
      "done\n",
      "bar\n"
     ]
    }
   ],
   "source": [
    "for i in ['foo', 'bar', 'baz', 'qux']:\n",
    "    if i == 'bar':\n",
    "        print(i)\n",
    "        break\n",
    "    else:\n",
    "        print('done')"
   ]
  },
  {
   "cell_type": "code",
   "execution_count": 20,
   "metadata": {},
   "outputs": [
    {
     "name": "stdout",
     "output_type": "stream",
     "text": [
      "done\n",
      "done\n",
      "done\n",
      "bar\n"
     ]
    }
   ],
   "source": [
    "for i in ['foo', 'baz', 'qux', 'bar']:\n",
    "    if i == 'bar':\n",
    "        print(i)\n",
    "        break\n",
    "    else:\n",
    "        print('done')"
   ]
  },
  {
   "cell_type": "code",
   "execution_count": 25,
   "metadata": {},
   "outputs": [
    {
     "name": "stdout",
     "output_type": "stream",
     "text": [
      "1.8\n",
      "1.62\n",
      "1.4580000000000002\n",
      "1.3122000000000003\n",
      "1.1809800000000004\n",
      "1.0628820000000003\n",
      "0.9565938000000003\n",
      "0.8609344200000003\n",
      "0.7748409780000003\n",
      "0.6973568802000003\n",
      "0.6276211921800003\n",
      "0.5648590729620003\n",
      "0.5083731656658003\n",
      "0.45753584909922024\n",
      "14\n"
     ]
    }
   ],
   "source": [
    "error = 2\n",
    "cont = 0\n",
    "\n",
    "while error > 0.5:\n",
    "    error = error * 0.9\n",
    "    print(error)\n",
    "    cont+=1\n",
    "print(cont)"
   ]
  }
 ],
 "metadata": {
  "kernelspec": {
   "display_name": "Python 3",
   "language": "python",
   "name": "python3"
  },
  "language_info": {
   "codemirror_mode": {
    "name": "ipython",
    "version": 3
   },
   "file_extension": ".py",
   "mimetype": "text/x-python",
   "name": "python",
   "nbconvert_exporter": "python",
   "pygments_lexer": "ipython3",
   "version": "3.8.10"
  },
  "orig_nbformat": 4,
  "vscode": {
   "interpreter": {
    "hash": "916dbcbb3f70747c44a77c7bcd40155683ae19c65e1c03b4aa3499c5328201f1"
   }
  }
 },
 "nbformat": 4,
 "nbformat_minor": 2
}
